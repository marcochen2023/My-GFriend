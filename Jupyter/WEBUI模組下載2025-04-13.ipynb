{
 "cells": [
  {
   "cell_type": "code",
   "execution_count": null,
   "id": "4c660418-3dde-43bc-b599-02dd6a8b2d3c",
   "metadata": {},
   "outputs": [],
   "source": [
    "真人寫實Checkpoint模組Gemini_ILMixV3"
   ]
  },
  {
   "cell_type": "code",
   "execution_count": null,
   "id": "853e190e-5b0c-4c4d-8abd-1e778e875ad8",
   "metadata": {},
   "outputs": [],
   "source": [
    "model_url = \"https://huggingface.co/CuteBlueEyed/Gemini_ILMix/resolve/main/Gemini_ILMixV3.safetensors?download=true\"\n",
    "model_name = \"Gemini_ILMixV3.safetensors\"\n",
    "\n",
    "%cd /workspace/stable-diffusion-webui-forge/models/Stable-diffusion\n",
    "get_ipython().system(f'wget -O \"{model_name}\" \"{model_url}\"')"
   ]
  },
  {
   "cell_type": "code",
   "execution_count": null,
   "id": "52cb1574-8ce8-400f-bcc4-87148948e898",
   "metadata": {},
   "outputs": [],
   "source": [
    "動漫風格Checkpoint模組waiNSFWIllustrious_v120"
   ]
  },
  {
   "cell_type": "code",
   "execution_count": null,
   "id": "5743c0b7-dea9-48e9-925e-362d9a089426",
   "metadata": {},
   "outputs": [],
   "source": [
    "model_url = \"https://huggingface.co/nnnn1111/models/resolve/main/waiNSFWIllustrious_v120.safetensors?download=true\"\n",
    "model_name = \"waiNSFWIllustrious_v120.safetensors\"\n",
    "\n",
    "%cd /workspace/stable-diffusion-webui-forge/models/Stable-diffusion\n",
    "get_ipython().system(f'wget -O \"{model_name}\" \"{model_url}\"')"
   ]
  },
  {
   "cell_type": "code",
   "execution_count": null,
   "id": "acc2a28a-ff3f-4b7c-8aab-6c7c93e3f95a",
   "metadata": {},
   "outputs": [],
   "source": [
    "2.5D半寫實角色LoRA1:Yuina"
   ]
  },
  {
   "cell_type": "code",
   "execution_count": null,
   "id": "e21f4623-9bca-4c17-827a-2f7569f1a5bc",
   "metadata": {},
   "outputs": [],
   "source": [
    "model_url = \"https://huggingface.co/CuteBlueEyed/Gemini_ILMix/resolve/main/Yuina_GMIL_TAV103.safetensors?download=true\"\n",
    "model_name = \"Yuina_GMIL_TAV103.safetensors\"\n",
    "\n",
    "%cd /workspace/stable-diffusion-webui-forge/models/Lora\n",
    "get_ipython().system(f'wget -O \"{model_name}\" \"{model_url}\"')"
   ]
  },
  {
   "cell_type": "code",
   "execution_count": null,
   "id": "b6d365da-da8e-47eb-91d3-b27d07a94654",
   "metadata": {},
   "outputs": [],
   "source": [
    "2.5D半寫實角色LoRA2:Nova"
   ]
  },
  {
   "cell_type": "code",
   "execution_count": null,
   "id": "b695203a-a2ae-4175-952b-c295ba7d2c77",
   "metadata": {},
   "outputs": [],
   "source": [
    "model_url = \"https://huggingface.co/CuteBlueEyed/Gemini_ILMix/resolve/main/Nova_GMIL_TAV103.safetensors?download=true\"\n",
    "model_name = \"Nova_GMIL_TAV103.safetensors\"\n",
    "\n",
    "%cd /workspace/stable-diffusion-webui-forge/models/Lora\n",
    "get_ipython().system(f'wget -O \"{model_name}\" \"{model_url}\"')"
   ]
  },
  {
   "cell_type": "code",
   "execution_count": null,
   "id": "4babed5e-2379-45d0-b260-7a9bf5aa0640",
   "metadata": {},
   "outputs": [],
   "source": [
    "#########手動執行WEBUI#########"
   ]
  },
  {
   "cell_type": "code",
   "execution_count": null,
   "id": "e746384d-1bb6-4ebf-8fd3-237cb802f530",
   "metadata": {},
   "outputs": [],
   "source": [
    "!python /workspace/stable-diffusion-webui-forge/launch.py --port 7860 --api --listen --xformers --skip-torch-cuda-test"
   ]
  }
 ],
 "metadata": {
  "kernelspec": {
   "display_name": "Python 3",
   "language": "python",
   "name": "python3"
  },
  "language_info": {
   "codemirror_mode": {
    "name": "ipython",
    "version": 3
   },
   "file_extension": ".py",
   "mimetype": "text/x-python",
   "name": "python",
   "nbconvert_exporter": "python",
   "pygments_lexer": "ipython3",
   "version": "3.10.12"
  }
 },
 "nbformat": 4,
 "nbformat_minor": 5
}
